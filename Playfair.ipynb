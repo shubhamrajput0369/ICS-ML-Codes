{
  "nbformat": 4,
  "nbformat_minor": 0,
  "metadata": {
    "colab": {
      "name": "Mohit_Playfair.ipynb",
      "provenance": []
    },
    "kernelspec": {
      "name": "python3",
      "display_name": "Python 3"
    },
    "language_info": {
      "name": "python"
    }
  },
  "cells": [
    {
      "cell_type": "code",
      "source": [
        "def create_matrix(key):\n",
        "  letter_added=[]\n",
        "  key=key.upper()\n",
        "  matrix = [[0 for i in range(5)] for j in range(5)]\n",
        "  for i in range(len(key)):\n",
        "    if key[i] not in letter_added:\n",
        "      letter_added.append(key[i])\n",
        "\n",
        "  for i in range(65,91):\n",
        "    if i==74:\n",
        "      continue\n",
        "    if chr(i) not in letter_added:\n",
        "      letter_added.append(chr(i))\n",
        "      \n",
        "  k=0\n",
        "  for i in range(5):\n",
        "    for j in range(5):\n",
        "      matrix[i][j] = letter_added[k]\n",
        "      k+=1\n",
        "  return matrix\n"
      ],
      "metadata": {
        "id": "Q6LMgVry6mSg"
      },
      "execution_count": 1,
      "outputs": []
    },
    {
      "cell_type": "code",
      "source": [
        "def replace_duplicate(msg):\n",
        "  i=0\n",
        "  while(i<len(msg)):\n",
        "    l1=msg[i]\n",
        "    if(i == len(msg)-1):\n",
        "      msg = msg+\"X\"\n",
        "      i+=2\n",
        "      continue\n",
        "    l2 = msg[i+1]\n",
        "    if l1==l2:\n",
        "      msg = msg[:i+1] + \"X\" + msg[i+1:]\n",
        "    i+=2\n",
        "  return msg"
      ],
      "metadata": {
        "id": "yrnRh7LX78z0"
      },
      "execution_count": 2,
      "outputs": []
    },
    {
      "cell_type": "code",
      "source": [
        "def indexof(l, matrix):\n",
        "  for i in range(5):\n",
        "    if l in matrix[i]:\n",
        "      return i,matrix[i].index(l)"
      ],
      "metadata": {
        "id": "aE_PQVA7786J"
      },
      "execution_count": 3,
      "outputs": []
    },
    {
      "cell_type": "code",
      "source": [
        "def playfair(msg , key, encrypt = True):\n",
        "  inc = 1\n",
        "  if encrypt == False:\n",
        "    inc = -1\n",
        "  matrix = create_matrix(key)\n",
        "  msg=msg.upper()\n",
        "  msg.replace(' ','')\n",
        "  msg=replace_duplicate(msg)\n",
        "\n",
        "  cipher_text = ''\n",
        "\n",
        "  for i in range(0,len(msg),2):\n",
        "    l1 = msg[i]\n",
        "    l2 = msg[i+1]\n",
        "    row1, col1 = indexof(l1, matrix)\n",
        "    row2, col2 = indexof(l2, matrix)    \n",
        "    \n",
        "    if row1 == row2:\n",
        "      cipher_text += matrix[row1][(col1+inc)%5] + matrix[row2][(col2+inc)%5]\n",
        "    elif col1 == col2:\n",
        "      cipher_text += matrix[(row1+inc)%5][(col1)] + matrix[(row2+inc)%5][(col2)]\n",
        "    else:\n",
        "      cipher_text += matrix[row1][(col2)] + matrix[row2][(col1)]\n",
        "  return cipher_text\n"
      ],
      "metadata": {
        "id": "IaqylrikyR06"
      },
      "execution_count": 4,
      "outputs": []
    },
    {
      "cell_type": "code",
      "execution_count": 5,
      "metadata": {
        "id": "s_q8vDCKokCB",
        "colab": {
          "base_uri": "https://localhost:8080/"
        },
        "outputId": "c77ff6d5-61e2-4d86-c702-fe5966a6388c"
      },
      "outputs": [
        {
          "output_type": "stream",
          "name": "stdout",
          "text": [
            "Enter your Message: mohit\n",
            "Enter the key: mango\n",
            "AMIKSY\n",
            "NAKLTX\n"
          ]
        }
      ],
      "source": [
        "plaintext = input(\"Enter your Message: \")\n",
        "key = input(\"Enter the key: \")\n",
        "cipher_text = playfair(plaintext , key)\n",
        "print(cipher_text)\n",
        "decrypt_text = playfair(cipher_text , key)\n",
        "print(decrypt_text)"
      ]
    }
  ]
}