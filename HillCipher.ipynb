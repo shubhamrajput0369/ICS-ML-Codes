{
  "nbformat": 4,
  "nbformat_minor": 0,
  "metadata": {
    "colab": {
      "name": "Mohit_HillCipher.ipynb",
      "provenance": []
    },
    "kernelspec": {
      "name": "python3",
      "display_name": "Python 3"
    },
    "language_info": {
      "name": "python"
    }
  },
  "cells": [
    {
      "cell_type": "code",
      "source": [
        "import math"
      ],
      "metadata": {
        "id": "ZrJDy6e0lgCG"
      },
      "execution_count": 11,
      "outputs": []
    },
    {
      "cell_type": "code",
      "source": [
        "def getKeyMatrix(key):\n",
        "  keyMatrix=[[0] * 3 for i in range(3)]\n",
        "  k=0\n",
        "  for i in range(3):\n",
        "    for j in range(3):\n",
        "      keyMatrix[i][j]=ord(key[k])%65\n",
        "      k+=1\n",
        "  return keyMatrix\n"
      ],
      "metadata": {
        "id": "Ke341JPCfvNW"
      },
      "execution_count": 9,
      "outputs": []
    },
    {
      "cell_type": "code",
      "source": [
        "def encrypt(messagevector,keyMatrix):\n",
        "  col=len(messagevector[0])\n",
        "  cipherMatrix=[[0 for i in range(col)]for j in range(3)]\n",
        "\n",
        "  for i in range(3):\n",
        "    for j in range(col):\n",
        "      cipherMatrix[i][j]=0\n",
        "      for x in range(3):\n",
        "        cipherMatrix[i][j]+=(keyMatrix[i][x] * messagevector[x][j])\n",
        "      cipherMatrix[i][j] = cipherMatrix[i][j] %26\n",
        "  return cipherMatrix\n",
        "\n"
      ],
      "metadata": {
        "id": "tQp0yQB0idOb"
      },
      "execution_count": 18,
      "outputs": []
    },
    {
      "cell_type": "code",
      "source": [
        "def HillCipher(message, key):\n",
        "\n",
        "  keyMatrix=getKeyMatrix(key)\n",
        "  print(keyMatrix)\n",
        "\n",
        "  msg_len=len(message)\n",
        "  row=3\n",
        "  col=math.ceil(msg_len/row)\n",
        "  extra=(row*col)-msg_len\n",
        "  message+=\"Z\"*extra\n",
        "\n",
        "  messagevector = [[0 for i in range(col)] for j in range(3)]\n",
        "\n",
        "  msg_index=0\n",
        "  for i in range(col):\n",
        "    for j in range(3):\n",
        "      messagevector[j][i]=ord(message[msg_index])%65\n",
        "      msg_index+=1\n",
        "  print(messagevector)\n",
        "\n",
        "  cipherMatrix=encrypt(messagevector,keyMatrix)\n",
        "  print(cipherMatrix)\n",
        "\n",
        "  CipherText=[]\n",
        "  for i in range(col):\n",
        "    for j in range(3):\n",
        "      CipherText.append(chr(cipherMatrix[j][i]+65))\n",
        "\n",
        "  print(\"CipherText is: \", ''.join(CipherText))\n",
        "\n",
        "\n"
      ],
      "metadata": {
        "id": "qLkW4U2-fjH2"
      },
      "execution_count": 28,
      "outputs": []
    },
    {
      "cell_type": "code",
      "execution_count": 29,
      "metadata": {
        "id": "KDV6DdH6P7M4",
        "colab": {
          "base_uri": "https://localhost:8080/"
        },
        "outputId": "2808b169-e5bf-47ca-8d00-1877f7663076"
      },
      "outputs": [
        {
          "output_type": "stream",
          "name": "stdout",
          "text": [
            "[[6, 24, 1], [13, 16, 10], [20, 17, 15]]\n",
            "[[0, 0, 1], [2, 2, 14], [19, 19, 25]]\n",
            "[[15, 15, 3], [14, 14, 19], [7, 7, 9]]\n",
            "CipherText is:  POHPOHDTJ\n"
          ]
        }
      ],
      "source": [
        "if __name__ == \"__main__\":\n",
        "\n",
        "  message= \"ACTACTBO\"\n",
        "  key= \"GYBNQKURP\"\n",
        "\n",
        "HillCipher(message,key)"
      ]
    }
  ]
}