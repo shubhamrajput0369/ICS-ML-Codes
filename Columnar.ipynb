{
  "nbformat": 4,
  "nbformat_minor": 0,
  "metadata": {
    "colab": {
      "name": "Mohit_Columnar.ipynb",
      "provenance": [],
      "collapsed_sections": []
    },
    "kernelspec": {
      "name": "python3",
      "display_name": "Python 3"
    },
    "language_info": {
      "name": "python"
    }
  },
  "cells": [
    {
      "cell_type": "code",
      "source": [
        "import math"
      ],
      "metadata": {
        "id": "VU_7egPX4WDF"
      },
      "execution_count": 38,
      "outputs": []
    },
    {
      "cell_type": "code",
      "source": [
        "def encryptmsg(msg,key):\n",
        "  cipher=''\n",
        "  msg=msg.upper()\n",
        "  msg=msg.replace(' ','X')\n",
        "  msg_len=float(len(msg))\n",
        "  msg_lst=list(msg)\n",
        "\n",
        "  #cal no. of cols\n",
        "  col=len(key)\n",
        "\n",
        "  #no of rows\n",
        "  row=int(math.ceil(msg_len/col))\n",
        "\n",
        "  #add X in extra space\n",
        "  fill_null=int((row*col)-msg_len)\n",
        "  msg_lst.extend('X'*fill_null)\n",
        "\n",
        "  #add to the matrix\n",
        "  m=0\n",
        "  matrix=[]\n",
        "  for i in range(row):\n",
        "    temp=[]\n",
        "    for j in range(col):\n",
        "      temp.append(msg_lst[m])\n",
        "      m+=1\n",
        "    matrix.append(temp)\n",
        "\n",
        "  #to read the matrix\n",
        "  k=0\n",
        "  map={}\n",
        "  for i in range(col):\n",
        "    temp=[]\n",
        "    for j in range(row):\n",
        "      temp.append(matrix[j][i])\n",
        "    if key[k] in map:\n",
        "      map[key[k]]+= temp\n",
        "    else:\n",
        "      map[key[k]] = temp\n",
        "    k+=1\n",
        "\n",
        "  for key in sorted(map.keys()):\n",
        "    cipher+= ''.join(map[key])\n",
        "  \n",
        "  return cipher"
      ],
      "metadata": {
        "id": "-Jy_NN522-aC"
      },
      "execution_count": 54,
      "outputs": []
    },
    {
      "cell_type": "code",
      "source": [
        "def decryptmsg(cipher, key):\n",
        "  msg=''\n",
        "  msg_indx=0\n",
        "  k_indx=0\n",
        "  msg_len=float(len(cipher))\n",
        "  msg_lst=list(cipher)\n",
        "\n",
        "  col=len(key)\n",
        "\n",
        "  row=int(math.ceil(msg_len/col))\n",
        "\n",
        "  key_lst=sorted(list(key))\n",
        "\n",
        "  dec_cipher=[[None for i in range(col)] for j in range(row)]\n",
        "\n",
        "  for _ in range(col):\n",
        "    curr_indx=key.index(key_lst[k_indx])\n",
        "    \n",
        "\n",
        "    for j in range(row):\n",
        "      dec_cipher[j][curr_indx] = msg_lst[msg_indx]\n",
        "      msg_indx +=1\n",
        "    k_indx+=1\n",
        "  print(dec_cipher)\n",
        "\n",
        "  try:\n",
        "    msg= ''.join(sum(dec_cipher, []))\n",
        "  except TypeError:\n",
        "    raise TypeError(\"This Program cannot handle repeating words\")\n",
        "\n",
        "  return msg"
      ],
      "metadata": {
        "id": "3iesNW9Q-glP"
      },
      "execution_count": 56,
      "outputs": []
    },
    {
      "cell_type": "code",
      "source": [
        "msg=\"Geeks for Geeks\"\n",
        "key=\"HACK\"\n",
        "cipher=encryptmsg(msg,key)\n",
        "print(\"Cipher Text is: \", cipher)\n",
        "decrypt=decryptmsg(cipher,key)\n",
        "print(\"Decrypted msg is: \", decrypt)"
      ],
      "metadata": {
        "colab": {
          "base_uri": "https://localhost:8080/"
        },
        "id": "u9c8_Qhy2WbZ",
        "outputId": "0e0be616-a18f-4f25-bf4a-0ed9ae8f07f4"
      },
      "execution_count": 57,
      "outputs": [
        {
          "output_type": "stream",
          "name": "stdout",
          "text": [
            "Cipher Text is:  EXXKEFGSGSREKOEX\n",
            "[['G', 'E', 'E', 'K'], ['S', 'X', 'F', 'O'], ['R', 'X', 'G', 'E'], ['E', 'K', 'S', 'X']]\n",
            "Decrypted msg is:  GEEKSXFORXGEEKSX\n"
          ]
        }
      ]
    }
  ]
}