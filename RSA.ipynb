{
  "nbformat": 4,
  "nbformat_minor": 0,
  "metadata": {
    "colab": {
      "name": "Mohit_RSA.ipynb",
      "provenance": [],
      "collapsed_sections": []
    },
    "kernelspec": {
      "name": "python3",
      "display_name": "Python 3"
    },
    "language_info": {
      "name": "python"
    }
  },
  "cells": [
    {
      "cell_type": "code",
      "source": [
        "def gcd(x,y):\n",
        "  if x < y:\n",
        "    small=x\n",
        "    large=y\n",
        "  else:\n",
        "    small=y\n",
        "    large=x\n",
        "  \n",
        "  while small!=0:\n",
        "    temp=large%small\n",
        "    large=small\n",
        "    small=temp\n",
        "  return large\n",
        "\n"
      ],
      "metadata": {
        "id": "B5_OTpUJjpp-"
      },
      "execution_count": 64,
      "outputs": []
    },
    {
      "cell_type": "code",
      "source": [
        "def find_e(z):\n",
        "  e=2\n",
        "  while e < z:\n",
        "    if(gcd(e,z)==1):\n",
        "      print(e)\n",
        "      return e\n",
        "    e+=1\n"
      ],
      "metadata": {
        "id": "vB_D3sFajLHW"
      },
      "execution_count": 65,
      "outputs": []
    },
    {
      "cell_type": "code",
      "source": [
        "def find_d(z,e):\n",
        "  d=2\n",
        "  while d < z:\n",
        "    if((d*e)%z==1):\n",
        "      print(d)\n",
        "      return d\n",
        "    d+=1\n"
      ],
      "metadata": {
        "id": "TpNAAHiUjyur"
      },
      "execution_count": 66,
      "outputs": []
    },
    {
      "cell_type": "code",
      "source": [
        "def rsa_algo(p,q,text):\n",
        "  n=p*q\n",
        "  z=(p-1)*(q-1)\n",
        "  e=find_e(z)\n",
        "  d=find_d(z,e)\n",
        "  print(\"Private Key is: \" , e, n)\n",
        "  print(\"Public Key is: \" , d, n)\n",
        "\n",
        "\n",
        "#Now encryption and decryption\n",
        "\n",
        "#->Encyrption\n",
        "#->CipherText: C= (P^e)mod n\n",
        "#Now as the plaintext we took in input is string we need to convert itinto ascii\n",
        "#->we convert it into ascii using ord function\n",
        "  cipher_text=''\n",
        "  for ch in text:\n",
        "    ch=ord(ch)\n",
        "    #now we need the output in string so again chr and compute\n",
        "    cipher_text+= chr((ch ** e) % n)\n",
        "\n",
        "#-> Decryption\n",
        "#-> Plain Text: P=(C^d)%n   C means cipher text\n",
        "#same process\n",
        "  plain_text=''\n",
        "  for ch in cipher_text:\n",
        "    ch=ord(ch)\n",
        "    plain_text+= chr((ch ** d) % n)\n",
        "  \n",
        "  return cipher_text,plain_text\n",
        "\n",
        "  \n"
      ],
      "metadata": {
        "id": "2OOp6YVOPWwO"
      },
      "execution_count": 67,
      "outputs": []
    },
    {
      "cell_type": "code",
      "source": [
        "p=int(input())\n",
        "q=int(input())\n",
        "text=input()\n",
        "rsa_algo(p,q,text)\n",
        "\n"
      ],
      "metadata": {
        "colab": {
          "base_uri": "https://localhost:8080/"
        },
        "id": "smECkAKDmY9F",
        "outputId": "bd00c5cb-199d-4b5f-9f45-583b2d609d9d"
      },
      "execution_count": 68,
      "outputs": [
        {
          "output_type": "stream",
          "name": "stdout",
          "text": [
            "59\n",
            "53\n",
            "mohit\n",
            "3\n",
            "2011\n",
            "Private Key is:  3 3127\n",
            "Public Key is:  2011 3127\n"
          ]
        },
        {
          "output_type": "execute_result",
          "data": {
            "text/plain": [
              "('ǃѬࣟɻȋ', 'mohit')"
            ]
          },
          "metadata": {},
          "execution_count": 68
        }
      ]
    }
  ]
}